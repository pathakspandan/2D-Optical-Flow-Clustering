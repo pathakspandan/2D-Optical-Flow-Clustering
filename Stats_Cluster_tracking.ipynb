{
 "cells": [
  {
   "cell_type": "code",
   "execution_count": 1,
   "id": "e8ded513-55b7-4c5d-bf84-a948576ad06b",
   "metadata": {},
   "outputs": [],
   "source": [
    "import os\n",
    "import numpy as np\n",
    "import scipy as sp\n",
    "import seaborn as sns\n",
    "import matplotlib.pyplot as plt\n",
    "import pandas as pd"
   ]
  },
  {
   "cell_type": "code",
   "execution_count": 31,
   "id": "4e203667-8647-4a85-a37d-3776872c0236",
   "metadata": {},
   "outputs": [
    {
     "name": "stdout",
     "output_type": "stream",
     "text": [
      "8 dataframes have loaded successfully.\n"
     ]
    }
   ],
   "source": [
    "# Address of the main directory\n",
    "main_folder = r'E:\\Spandan\\2D_Neurons_Paper\\div23'   # Change day accordingly\n",
    "dataframes = {}  # Dictionary to hold dataframes with folder names as keys\n",
    "subfolder_names = []  # List to hold the subfolder names\n",
    "\n",
    "ind = 0\n",
    "# Loop through each subfolder in the main directory\n",
    "for subfolder in os.listdir(main_folder):\n",
    "    subfolder_path = os.path.join(main_folder, subfolder)\n",
    "    \n",
    "    # Check if the path is a directory\n",
    "    if os.path.isdir(subfolder_path):\n",
    "        # Define the path to the csv file in the subfolder\n",
    "        csv_file = os.path.join(subfolder_path, 'tp_trajectories_filtered.csv')\n",
    "        \n",
    "        # Check if the csv file exists\n",
    "        if os.path.isfile(csv_file):\n",
    "            # Read the CSV into a pandas dataframe\n",
    "            df = pd.read_csv(csv_file)\n",
    "            \n",
    "            # Store the dataframe in the dictionary with the subfolder name as the key\n",
    "            dataframes[subfolder] = df\n",
    "            \n",
    "            subfolder_names.append(subfolder)   # Append the subfolder name to the list\n",
    "            ind += 1\n",
    "            # print(f\"Loaded dataframe from {subfolder}\")\n",
    "\n",
    "print(f\"{ind} dataframes have loaded successfully.\")\n",
    "# Now all the dataframes are stored in the 'dataframes' dictionary,\n",
    "# and the subfolder names are stored in the 'subfolder_names' list.\n"
   ]
  },
  {
   "cell_type": "code",
   "execution_count": 33,
   "id": "c0ce77ee-ea6d-47d6-a1cc-1be4f5c8b5d6",
   "metadata": {},
   "outputs": [
    {
     "name": "stdout",
     "output_type": "stream",
     "text": [
      "9 filenames have matched with the imaging records.\n"
     ]
    }
   ],
   "source": [
    "file_path = r'E:\\Spandan\\Kate\\NEURON MOVIES\\tifNotes.xlsx'  # Address where the imaging details are stored\n",
    "df_sheet = pd.read_excel(file_path, sheet_name='glass')   # Load the Excel file (specific sheet) into a pandas dataframe\n",
    "df_sheet_day2 = df_sheet[df_sheet['div']== 23 ]  # Corresponding dataframe values for a specific date\n",
    "\n",
    "frame_interval_list = []  # List to hold the frame interval values\n",
    "resolution_list = []  # List to hold the resolution values\n",
    "ind = 0\n",
    "\n",
    "for filename in subfolder_names:   # Loop through all the subfolder names\n",
    "    # Loop through the dataframe values and check if any value is in the filename\n",
    "    for value in df_sheet_day2['file name']:\n",
    "        if value in filename:\n",
    "            \n",
    "            index = df_sheet_day2.index[df_sheet_day2['file name'] == value].tolist()\n",
    "            \n",
    "            interval = df_sheet_day2['frame interval'][index].values\n",
    "            string_interval_value = interval[0]  \n",
    "            integer_interval_value = float(string_interval_value.split()[0])  # Extract the integer part (removing any non-numeric characters)\n",
    "            frame_interval_list.append(integer_interval_value)\n",
    "            \n",
    "            resolution = df_sheet_day2['resolution'][index].values\n",
    "            string_resolution_value = resolution[0]  \n",
    "            if type(string_resolution_value)==float:\n",
    "                resolution_list.append(string_resolution_value)\n",
    "            else:\n",
    "                integer_resolution_value = float(string_resolution_value.split()[0])  # Extract the integer part (removing any non-numeric characters)\n",
    "                resolution_list.append(integer_resolution_value)\n",
    "            ind += 1\n",
    "            # print(f\"'{value}' is found in the filename.\")\n",
    "        else:\n",
    "            continue\n",
    "            \n",
    "print(f\"{ind} filenames have matched with the imaging records.\")"
   ]
  },
  {
   "cell_type": "code",
   "execution_count": 38,
   "id": "b7773122-833b-4529-9e2d-fd416a55857e",
   "metadata": {},
   "outputs": [],
   "source": [
    "median_velocity_list = []\n",
    "for i in range(len(subfolder_names)):  # Loop over all dataframes\n",
    "    sub_folder = subfolder_names[i]\n",
    "    # median_vel = np.median(dataframes[sub_folder]['velocity'])\n",
    "    median_vel = np.median(dataframes[sub_folder]['velocity'])*60/(resolution_list[i]*frame_interval_list[i])\n",
    "    median_velocity_list.append(median_vel)    "
   ]
  },
  {
   "cell_type": "code",
   "execution_count": 39,
   "id": "50656fae-6bb1-4d44-bded-787a3bc81b14",
   "metadata": {},
   "outputs": [
    {
     "data": {
      "text/plain": [
       "[1.0229795674324702,\n",
       " 1.2417216017898303,\n",
       " 0.8226117692926433,\n",
       " 0.8993009423374577,\n",
       " 0.8233513956682378,\n",
       " 0.8581830831441235,\n",
       " 8.99990601868738,\n",
       " 10.397573132057806]"
      ]
     },
     "execution_count": 39,
     "metadata": {},
     "output_type": "execute_result"
    }
   ],
   "source": [
    "median_velocity_list"
   ]
  },
  {
   "cell_type": "code",
   "execution_count": 47,
   "id": "319e31b8-45b2-4dcc-98df-e48e5d50e9db",
   "metadata": {},
   "outputs": [
    {
     "data": {
      "text/plain": [
       "9"
      ]
     },
     "execution_count": 47,
     "metadata": {},
     "output_type": "execute_result"
    }
   ],
   "source": []
  },
  {
   "cell_type": "code",
   "execution_count": null,
   "id": "cd25bbc7-bcb7-41b7-ad9d-2fe4b2a76b50",
   "metadata": {},
   "outputs": [],
   "source": []
  }
 ],
 "metadata": {
  "kernelspec": {
   "display_name": "Python 3 (ipykernel)",
   "language": "python",
   "name": "python3"
  },
  "language_info": {
   "codemirror_mode": {
    "name": "ipython",
    "version": 3
   },
   "file_extension": ".py",
   "mimetype": "text/x-python",
   "name": "python",
   "nbconvert_exporter": "python",
   "pygments_lexer": "ipython3",
   "version": "3.12.5"
  }
 },
 "nbformat": 4,
 "nbformat_minor": 5
}
